{
 "cells": [
  {
   "cell_type": "code",
   "execution_count": null,
   "id": "10613e29-be0d-41fd-801d-db7a6455097e",
   "metadata": {},
   "outputs": [],
   "source": []
  }
 ],
 "metadata": {
  "kernelspec": {
   "display_name": "",
   "name": ""
  },
  "language_info": {
   "name": ""
  }
 },
 "nbformat": 4,
 "nbformat_minor": 5
}
